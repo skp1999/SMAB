{
 "cells": [
  {
   "cell_type": "code",
   "execution_count": 1,
   "id": "e653566e",
   "metadata": {},
   "outputs": [],
   "source": [
    "import pandas as pd"
   ]
  },
  {
   "cell_type": "code",
   "execution_count": 19,
   "id": "0f86fd06",
   "metadata": {},
   "outputs": [
    {
     "data": {
      "text/html": [
       "<div>\n",
       "<style scoped>\n",
       "    .dataframe tbody tr th:only-of-type {\n",
       "        vertical-align: middle;\n",
       "    }\n",
       "\n",
       "    .dataframe tbody tr th {\n",
       "        vertical-align: top;\n",
       "    }\n",
       "\n",
       "    .dataframe thead th {\n",
       "        text-align: right;\n",
       "    }\n",
       "</style>\n",
       "<table border=\"1\" class=\"dataframe\">\n",
       "  <thead>\n",
       "    <tr style=\"text-align: right;\">\n",
       "      <th></th>\n",
       "      <th>Text</th>\n",
       "      <th>label</th>\n",
       "    </tr>\n",
       "  </thead>\n",
       "  <tbody>\n",
       "    <tr>\n",
       "      <th>0</th>\n",
       "      <td>i'm sure justine damond would reject these act...</td>\n",
       "      <td>0</td>\n",
       "    </tr>\n",
       "    <tr>\n",
       "      <th>1</th>\n",
       "      <td>british nuclear submarine suffered external da...</td>\n",
       "      <td>0</td>\n",
       "    </tr>\n",
       "    <tr>\n",
       "      <th>2</th>\n",
       "      <td>no one should be forced to do anything that vi...</td>\n",
       "      <td>0</td>\n",
       "    </tr>\n",
       "    <tr>\n",
       "      <th>3</th>\n",
       "      <td>hang them by the neck!!</td>\n",
       "      <td>1</td>\n",
       "    </tr>\n",
       "    <tr>\n",
       "      <th>4</th>\n",
       "      <td>internet censorship ramps up as second white n...</td>\n",
       "      <td>1</td>\n",
       "    </tr>\n",
       "    <tr>\n",
       "      <th>...</th>\n",
       "      <td>...</td>\n",
       "      <td>...</td>\n",
       "    </tr>\n",
       "    <tr>\n",
       "      <th>2679</th>\n",
       "      <td>yes he is racist ! !</td>\n",
       "      <td>0</td>\n",
       "    </tr>\n",
       "    <tr>\n",
       "      <th>2680</th>\n",
       "      <td>pl . start looking at these matters as fight b...</td>\n",
       "      <td>0</td>\n",
       "    </tr>\n",
       "    <tr>\n",
       "      <th>2681</th>\n",
       "      <td>are europeans being replaced ? this is a briti...</td>\n",
       "      <td>0</td>\n",
       "    </tr>\n",
       "    <tr>\n",
       "      <th>2682</th>\n",
       "      <td>all arabs, africans and pakistanis should be b...</td>\n",
       "      <td>1</td>\n",
       "    </tr>\n",
       "    <tr>\n",
       "      <th>2683</th>\n",
       "      <td>all they do is attack the alt right and discou...</td>\n",
       "      <td>0</td>\n",
       "    </tr>\n",
       "  </tbody>\n",
       "</table>\n",
       "<p>2684 rows × 2 columns</p>\n",
       "</div>"
      ],
      "text/plain": [
       "                                                   Text  label\n",
       "0     i'm sure justine damond would reject these act...      0\n",
       "1     british nuclear submarine suffered external da...      0\n",
       "2     no one should be forced to do anything that vi...      0\n",
       "3                               hang them by the neck!!      1\n",
       "4     internet censorship ramps up as second white n...      1\n",
       "...                                                 ...    ...\n",
       "2679                               yes he is racist ! !      0\n",
       "2680  pl . start looking at these matters as fight b...      0\n",
       "2681  are europeans being replaced ? this is a briti...      0\n",
       "2682  all arabs, africans and pakistanis should be b...      1\n",
       "2683  all they do is attack the alt right and discou...      0\n",
       "\n",
       "[2684 rows x 2 columns]"
      ]
     },
     "execution_count": 19,
     "metadata": {},
     "output_type": "execute_result"
    }
   ],
   "source": [
    "df = pd.read_csv('../data/dataset_mhate/english/new/valid.csv')\n",
    "df"
   ]
  },
  {
   "cell_type": "code",
   "execution_count": 20,
   "id": "17e30c31",
   "metadata": {},
   "outputs": [],
   "source": [
    "rewards_file = [eval(line) for line in open('../data/dataset_mhate/english/new/xlmr_reward_withoutgold_gpt_eng.json','r')]"
   ]
  },
  {
   "cell_type": "code",
   "execution_count": 24,
   "id": "3e7609a6",
   "metadata": {},
   "outputs": [
    {
     "name": "stderr",
     "output_type": "stream",
     "text": [
      "100%|██████████████████████████████████████████████████████████████████████████████████████████| 7061/7061 [00:00<00:00, 7550.14it/s]\n"
     ]
    }
   ],
   "source": [
    "from tqdm import tqdm \n",
    "\n",
    "for reward in tqdm(rewards_file):\n",
    "    word = reward['meta']['word']\n",
    "    samples = reward['meta']['samples']\n",
    "    for sample in samples:\n",
    "        idx = sample[0]\n",
    "        mlm_words = sample[1]\n",
    "        sent = df.iloc[idx]['Text']\n",
    "        #print(sent)\n",
    "        for word1 in mlm_words:\n",
    "            sent1 = sent.replace(word, word1)\n",
    "            #print(sent1)\n"
   ]
  },
  {
   "cell_type": "code",
   "execution_count": 17,
   "id": "46051d2d",
   "metadata": {},
   "outputs": [
    {
     "data": {
      "text/plain": [
       "51370"
      ]
     },
     "execution_count": 17,
     "metadata": {},
     "output_type": "execute_result"
    }
   ],
   "source": [
    "cnt1"
   ]
  },
  {
   "cell_type": "code",
   "execution_count": 18,
   "id": "d15a5259",
   "metadata": {},
   "outputs": [
    {
     "data": {
      "text/plain": [
       "16786"
      ]
     },
     "execution_count": 18,
     "metadata": {},
     "output_type": "execute_result"
    }
   ],
   "source": [
    "cnt2"
   ]
  },
  {
   "cell_type": "code",
   "execution_count": 26,
   "id": "15733a8c",
   "metadata": {},
   "outputs": [],
   "source": [
    "swahili = [\"akasema\", \"alikuwa\", \"alisema\", \"baada\", \"basi\", \"bila\", \"cha\", \"chini\", \"hadi\", \"hapo\", \"hata\", \"hivyo\", \"hiyo\", \"huku\", \"huo\", \"ili\", \"ilikuwa\", \"juu\", \"kama\", \"karibu\", \"katika\", \"kila\", \"kima\", \"kisha\", \"kubwa\", \"kutoka\", \"kuwa\", \"kwa\", \"kwamba\", \"kwenda\", \"kwenye\", \"la\", \"lakini\", \"mara\", \"mdogo\", \"mimi\", \"mkubwa\", \"mmoja\", \"moja\", \"muda\", \"mwenye\", \"na\", \"naye\", \"ndani\", \"ng\", \"ni\", \"nini\", \"nonkungu\", \"pamoja\", \"pia\", \"sana\", \"sasa\", \"sauti\", \"tafadhali\", \"tena\", \"tu\", \"vile\", \"wa\", \"wakati\", \"wake\", \"walikuwa\", \"wao\", \"watu\", \"wengine\", \"wote\", \"ya\", \"yake\", \"yangu\", \"yao\", \"yeye\", \"yule\", \"za\", \"zaidi\", \"zake\"]\n",
    "russian = [\"c\", \"а\", \"алло\", \"без\", \"белый\", \"близко\", \"более\", \"больше\", \"большой\", \"будем\", \"будет\", \"будете\", \"будешь\", \"будто\", \"буду\", \"будут\", \"будь\", \"бы\", \"бывает\", \"бывь\", \"был\", \"была\", \"были\", \"было\", \"быть\", \"в\", \"важная\", \"важное\", \"важные\", \"важный\", \"вам\", \"вами\", \"вас\", \"ваш\", \"ваша\", \"ваше\", \"ваши\", \"вверх\", \"вдали\", \"вдруг\", \"ведь\", \"везде\", \"вернуться\", \"весь\", \"вечер\", \"взгляд\", \"взять\", \"вид\", \"видел\", \"видеть\", \"вместе\", \"вне\", \"вниз\", \"внизу\", \"во\", \"вода\", \"война\", \"вокруг\", \"вон\", \"вообще\", \"вопрос\", \"восемнадцатый\", \"восемнадцать\", \"восемь\", \"восьмой\", \"вот\", \"впрочем\", \"времени\", \"время\", \"все\", \"все еще\", \"всегда\", \"всего\", \"всем\", \"всеми\", \"всему\", \"всех\", \"всею\", \"всю\", \"всюду\", \"вся\", \"всё\", \"второй\", \"вы\", \"выйти\", \"г\", \"где\", \"главный\", \"глаз\", \"говорил\", \"говорит\", \"говорить\", \"год\", \"года\", \"году\", \"голова\", \"голос\", \"город\", \"да\", \"давать\", \"давно\", \"даже\", \"далекий\", \"далеко\", \"дальше\", \"даром\", \"дать\", \"два\", \"двадцатый\", \"двадцать\", \"две\", \"двенадцатый\", \"двенадцать\", \"дверь\", \"двух\", \"девятнадцатый\", \"девятнадцать\", \"девятый\", \"девять\", \"действительно\", \"дел\", \"делал\", \"делать\", \"делаю\", \"дело\", \"день\", \"деньги\", \"десятый\", \"десять\", \"для\", \"до\", \"довольно\", \"долго\", \"должен\", \"должно\", \"должный\", \"дом\", \"дорога\", \"друг\", \"другая\", \"другие\", \"других\", \"друго\", \"другое\", \"другой\", \"думать\", \"душа\", \"е\", \"его\", \"ее\", \"ей\", \"ему\", \"если\", \"есть\", \"еще\", \"ещё\", \"ею\", \"её\", \"ж\", \"ждать\", \"же\", \"жена\", \"женщина\", \"жизнь\", \"жить\", \"за\", \"занят\", \"занята\", \"занято\", \"заняты\", \"затем\", \"зато\", \"зачем\", \"здесь\", \"земля\", \"знать\", \"значит\", \"значить\", \"и\", \"иди\", \"идти\", \"из\", \"или\", \"им\", \"имеет\", \"имел\", \"именно\", \"иметь\", \"ими\", \"имя\", \"иногда\", \"их\", \"к\", \"каждая\", \"каждое\", \"каждые\", \"каждый\", \"кажется\", \"казаться\", \"как\", \"какая\", \"какой\", \"кем\", \"книга\", \"когда\", \"кого\", \"ком\", \"комната\", \"кому\", \"конец\", \"конечно\", \"которая\", \"которого\", \"которой\", \"которые\", \"который\", \"которых\", \"кроме\", \"кругом\", \"кто\", \"куда\", \"лежать\", \"лет\", \"ли\", \"лицо\", \"лишь\", \"лучше\", \"любить\", \"люди\", \"м\", \"маленький\", \"мало\", \"мать\", \"машина\", \"между\", \"меля\", \"менее\", \"меньше\", \"меня\", \"место\", \"миллионов\", \"мимо\", \"минута\", \"мир\", \"мира\", \"мне\", \"много\", \"многочисленная\", \"многочисленное\", \"многочисленные\", \"многочисленный\", \"мной\", \"мною\", \"мог\", \"могу\", \"могут\", \"мож\", \"может\", \"может быть\", \"можно\", \"можхо\", \"мои\", \"мой\", \"мор\", \"москва\", \"мочь\", \"моя\", \"моё\", \"мы\", \"на\", \"наверху\", \"над\", \"надо\", \"назад\", \"наиболее\", \"найти\", \"наконец\", \"нам\", \"нами\", \"народ\", \"нас\", \"начала\", \"начать\", \"наш\", \"наша\", \"наше\", \"наши\", \"не\", \"него\", \"недавно\", \"недалеко\", \"нее\", \"ней\", \"некоторый\", \"нельзя\", \"нем\", \"немного\", \"нему\", \"непрерывно\", \"нередко\", \"несколько\", \"нет\", \"нею\", \"неё\", \"ни\", \"нибудь\", \"ниже\", \"низко\", \"никакой\", \"никогда\", \"никто\", \"никуда\", \"ним\", \"ними\", \"них\", \"ничего\", \"ничто\", \"но\", \"новый\", \"нога\", \"ночь\", \"ну\", \"нужно\", \"нужный\", \"нх\", \"о\", \"об\", \"оба\", \"обычно\", \"один\", \"одиннадцатый\", \"одиннадцать\", \"однажды\", \"однако\", \"одного\", \"одной\", \"оказаться\", \"окно\", \"около\", \"он\", \"она\", \"они\", \"оно\", \"опять\", \"особенно\", \"остаться\", \"от\", \"ответить\", \"отец\", \"откуда\", \"отовсюду\", \"отсюда\", \"очень\", \"первый\", \"перед\", \"писать\", \"плечо\", \"по\", \"под\", \"подойди\", \"подумать\", \"пожалуйста\", \"позже\", \"пойти\", \"пока\", \"пол\", \"получить\", \"помнить\", \"понимать\", \"понять\", \"пор\", \"пора\", \"после\", \"последний\", \"посмотреть\", \"посреди\", \"потом\", \"потому\", \"почему\", \"почти\", \"правда\", \"прекрасно\", \"при\", \"про\", \"просто\", \"против\", \"процентов\", \"путь\", \"пятнадцатый\", \"пятнадцать\", \"пятый\", \"пять\", \"работа\", \"работать\", \"раз\", \"разве\", \"рано\", \"раньше\", \"ребенок\", \"решить\", \"россия\", \"рука\", \"русский\", \"ряд\", \"рядом\", \"с\", \"с кем\", \"сам\", \"сама\", \"сами\", \"самим\", \"самими\", \"самих\", \"само\", \"самого\", \"самой\", \"самом\", \"самому\", \"саму\", \"самый\", \"свет\", \"свое\", \"своего\", \"своей\", \"свои\", \"своих\", \"свой\", \"свою\", \"сделать\", \"сеаой\", \"себе\", \"себя\", \"сегодня\", \"седьмой\", \"сейчас\", \"семнадцатый\", \"семнадцать\", \"семь\", \"сидеть\", \"сила\", \"сих\", \"сказал\", \"сказала\", \"сказать\", \"сколько\", \"слишком\", \"слово\", \"случай\", \"смотреть\", \"сначала\", \"снова\", \"со\", \"собой\", \"собою\", \"советский\", \"совсем\", \"спасибо\", \"спросить\", \"сразу\", \"стал\", \"старый\", \"стать\", \"стол\", \"сторона\", \"стоять\", \"страна\", \"суть\", \"считать\", \"т\", \"та\", \"так\", \"такая\", \"также\", \"таки\", \"такие\", \"такое\", \"такой\", \"там\", \"твои\", \"твой\", \"твоя\", \"твоё\", \"те\", \"тебе\", \"тебя\", \"тем\", \"теми\", \"теперь\", \"тех\", \"то\", \"тобой\", \"тобою\", \"товарищ\", \"тогда\", \"того\", \"тоже\", \"только\", \"том\", \"тому\", \"тот\", \"тою\", \"третий\", \"три\", \"тринадцатый\", \"тринадцать\", \"ту\", \"туда\", \"тут\", \"ты\", \"тысяч\", \"у\", \"увидеть\", \"уж\", \"уже\", \"улица\", \"уметь\", \"утро\", \"хороший\", \"хорошо\", \"хотел бы\", \"хотеть\", \"хоть\", \"хотя\", \"хочешь\", \"час\", \"часто\", \"часть\", \"чаще\", \"чего\", \"человек\", \"чем\", \"чему\", \"через\", \"четвертый\", \"четыре\", \"четырнадцатый\", \"четырнадцать\", \"что\", \"чтоб\", \"чтобы\", \"чуть\", \"шестнадцатый\", \"шестнадцать\", \"шестой\", \"шесть\", \"эта\", \"эти\", \"этим\", \"этими\", \"этих\", \"это\", \"этого\", \"этой\", \"этом\", \"этому\", \"этот\", \"эту\", \"я\", \"являюсь\"]\n",
    "turkish = [\"acaba\", \"acep\", \"adamakıllı\", \"adeta\", \"ait\", \"altmýþ\", \"altmış\", \"altý\", \"altı\", \"ama\", \"amma\", \"anca\", \"ancak\", \"arada\", \"artýk\", \"aslında\", \"aynen\", \"ayrıca\", \"az\", \"açıkça\", \"açıkçası\", \"bana\", \"bari\", \"bazen\", \"bazý\", \"bazı\", \"başkası\", \"baţka\", \"belki\", \"ben\", \"benden\", \"beni\", \"benim\", \"beri\", \"beriki\", \"beþ\", \"beş\", \"beţ\", \"bilcümle\", \"bile\", \"bin\", \"binaen\", \"binaenaleyh\", \"bir\", \"biraz\", \"birazdan\", \"birbiri\", \"birden\", \"birdenbire\", \"biri\", \"birice\", \"birileri\", \"birisi\", \"birkaç\", \"birkaçı\", \"birkez\", \"birlikte\", \"birçok\", \"birçoğu\", \"birþey\", \"birþeyi\", \"birşey\", \"birşeyi\", \"birţey\", \"bitevi\", \"biteviye\", \"bittabi\", \"biz\", \"bizatihi\", \"bizce\", \"bizcileyin\", \"bizden\", \"bize\", \"bizi\", \"bizim\", \"bizimki\", \"bizzat\", \"boşuna\", \"bu\", \"buna\", \"bunda\", \"bundan\", \"bunlar\", \"bunları\", \"bunların\", \"bunu\", \"bunun\", \"buracıkta\", \"burada\", \"buradan\", \"burası\", \"böyle\", \"böylece\", \"böylecene\", \"böylelikle\", \"böylemesine\", \"böylesine\", \"büsbütün\", \"bütün\", \"cuk\", \"cümlesi\", \"da\", \"daha\", \"dahi\", \"dahil\", \"dahilen\", \"daima\", \"dair\", \"dayanarak\", \"de\", \"defa\", \"dek\", \"demin\", \"demincek\", \"deminden\", \"denli\", \"derakap\", \"derhal\", \"derken\", \"deđil\", \"değil\", \"değin\", \"diye\", \"diđer\", \"diğer\", \"diğeri\", \"doksan\", \"dokuz\", \"dolayı\", \"dolayısıyla\", \"doğru\", \"dört\", \"edecek\", \"eden\", \"ederek\", \"edilecek\", \"ediliyor\", \"edilmesi\", \"ediyor\", \"elbet\", \"elbette\", \"elli\", \"emme\", \"en\", \"enikonu\", \"epey\", \"epeyce\", \"epeyi\", \"esasen\", \"esnasında\", \"etmesi\", \"etraflı\", \"etraflıca\", \"etti\", \"ettiği\", \"ettiğini\", \"evleviyetle\", \"evvel\", \"evvela\", \"evvelce\", \"evvelden\", \"evvelemirde\", \"evveli\", \"eđer\", \"eğer\", \"fakat\", \"filanca\", \"gah\", \"gayet\", \"gayetle\", \"gayri\", \"gayrı\", \"gelgelelim\", \"gene\", \"gerek\", \"gerçi\", \"geçende\", \"geçenlerde\", \"gibi\", \"gibilerden\", \"gibisinden\", \"gine\", \"göre\", \"gırla\", \"hakeza\", \"halbuki\", \"halen\", \"halihazırda\", \"haliyle\", \"handiyse\", \"hangi\", \"hangisi\", \"hani\", \"hariç\", \"hasebiyle\", \"hasılı\", \"hatta\", \"hele\", \"hem\", \"henüz\", \"hep\", \"hepsi\", \"her\", \"herhangi\", \"herkes\", \"herkesin\", \"hiç\", \"hiçbir\", \"hiçbiri\", \"hoş\", \"hulasaten\", \"iken\", \"iki\", \"ila\", \"ile\", \"ilen\", \"ilgili\", \"ilk\", \"illa\", \"illaki\", \"imdi\", \"indinde\", \"inen\", \"insermi\", \"ise\", \"ister\", \"itibaren\", \"itibariyle\", \"itibarıyla\", \"iyi\", \"iyice\", \"iyicene\", \"için\", \"iş\", \"işte\", \"iţte\", \"kadar\", \"kaffesi\", \"kah\", \"kala\", \"kanýmca\", \"karşın\", \"katrilyon\", \"kaynak\", \"kaçı\", \"kelli\", \"kendi\", \"kendilerine\", \"kendini\", \"kendisi\", \"kendisine\", \"kendisini\", \"kere\", \"kez\", \"keza\", \"kezalik\", \"keşke\", \"keţke\", \"ki\", \"kim\", \"kimden\", \"kime\", \"kimi\", \"kimisi\", \"kimse\", \"kimsecik\", \"kimsecikler\", \"külliyen\", \"kýrk\", \"kýsaca\", \"kırk\", \"kısaca\", \"lakin\", \"leh\", \"lütfen\", \"maada\", \"madem\", \"mademki\", \"mamafih\", \"mebni\", \"međer\", \"meğer\", \"meğerki\", \"meğerse\", \"milyar\", \"milyon\", \"mu\", \"mü\", \"mý\", \"mı\", \"nasýl\", \"nasıl\", \"nasılsa\", \"nazaran\", \"naşi\", \"ne\", \"neden\", \"nedeniyle\", \"nedenle\", \"nedense\", \"nerde\", \"nerden\", \"nerdeyse\", \"nere\", \"nerede\", \"nereden\", \"neredeyse\", \"neresi\", \"nereye\", \"netekim\", \"neye\", \"neyi\", \"neyse\", \"nice\", \"nihayet\", \"nihayetinde\", \"nitekim\", \"niye\", \"niçin\", \"o\", \"olan\", \"olarak\", \"oldu\", \"olduklarını\", \"oldukça\", \"olduğu\", \"olduğunu\", \"olmadı\", \"olmadığı\", \"olmak\", \"olması\", \"olmayan\", \"olmaz\", \"olsa\", \"olsun\", \"olup\", \"olur\", \"olursa\", \"oluyor\", \"on\", \"ona\", \"onca\", \"onculayın\", \"onda\", \"ondan\", \"onlar\", \"onlardan\", \"onlari\", \"onlarýn\", \"onları\", \"onların\", \"onu\", \"onun\", \"oracık\", \"oracıkta\", \"orada\", \"oradan\", \"oranca\", \"oranla\", \"oraya\", \"otuz\", \"oysa\", \"oysaki\", \"pek\", \"pekala\", \"peki\", \"pekçe\", \"peyderpey\", \"rağmen\", \"sadece\", \"sahi\", \"sahiden\", \"sana\", \"sanki\", \"sekiz\", \"seksen\", \"sen\", \"senden\", \"seni\", \"senin\", \"siz\", \"sizden\", \"sizi\", \"sizin\", \"sonra\", \"sonradan\", \"sonraları\", \"sonunda\", \"tabii\", \"tam\", \"tamam\", \"tamamen\", \"tamamıyla\", \"tarafından\", \"tek\", \"trilyon\", \"tüm\", \"var\", \"vardı\", \"vasıtasıyla\", \"ve\", \"velev\", \"velhasıl\", \"velhasılıkelam\", \"veya\", \"veyahut\", \"ya\", \"yahut\", \"yakinen\", \"yakında\", \"yakından\", \"yakınlarda\", \"yalnız\", \"yalnızca\", \"yani\", \"yapacak\", \"yapmak\", \"yaptı\", \"yaptıkları\", \"yaptığı\", \"yaptığını\", \"yapılan\", \"yapılması\", \"yapıyor\", \"yedi\", \"yeniden\", \"yenilerde\", \"yerine\", \"yetmiþ\", \"yetmiş\", \"yetmiţ\", \"yine\", \"yirmi\", \"yok\", \"yoksa\", \"yoluyla\", \"yüz\", \"yüzünden\", \"zarfında\", \"zaten\", \"zati\", \"zira\", \"çabuk\", \"çabukça\", \"çeşitli\", \"çok\", \"çokları\", \"çoklarınca\", \"çokluk\", \"çoklukla\", \"çokça\", \"çoğu\", \"çoğun\", \"çoğunca\", \"çoğunlukla\", \"çünkü\", \"öbür\", \"öbürkü\", \"öbürü\", \"önce\", \"önceden\", \"önceleri\", \"öncelikle\", \"öteki\", \"ötekisi\", \"öyle\", \"öylece\", \"öylelikle\", \"öylemesine\", \"öz\", \"üzere\", \"üç\", \"þey\", \"þeyden\", \"þeyi\", \"þeyler\", \"þu\", \"þuna\", \"þunda\", \"þundan\", \"þunu\", \"şayet\", \"şey\", \"şeyden\", \"şeyi\", \"şeyler\", \"şu\", \"şuna\", \"şuncacık\", \"şunda\", \"şundan\", \"şunlar\", \"şunları\", \"şunu\", \"şunun\", \"şura\", \"şuracık\", \"şuracıkta\", \"şurası\", \"şöyle\", \"ţayet\", \"ţimdi\", \"ţu\", \"ţöyle\"]"
   ]
  },
  {
   "cell_type": "code",
   "execution_count": 28,
   "id": "185a8146",
   "metadata": {},
   "outputs": [],
   "source": [
    "import pandas as pd\n",
    "df = pd.read_parquet('../data/dataset_sst/validation-00000-of-00001.parquet')\n",
    "df.to_csv('../data/dataset_sst/validation.csv', index=False)"
   ]
  },
  {
   "cell_type": "code",
   "execution_count": 29,
   "id": "cace27ee",
   "metadata": {},
   "outputs": [],
   "source": [
    "rewards_file = [eval(line) for line in open('../data/dataset_mhate/english/new/xlmr_reward_withoutgold_gpt_eng.json','r')]"
   ]
  },
  {
   "cell_type": "code",
   "execution_count": null,
   "id": "492a1a92",
   "metadata": {},
   "outputs": [],
   "source": [
    "from tqdm import tqdm \n",
    "\n",
    "for reward in tqdm(rewards_file):\n",
    "    word = reward['meta']['word']\n",
    "    samples = reward['meta']['samples']\n",
    "    for sample in samples:\n",
    "        idx = sample[0]\n",
    "        mlm_words = sample[1]\n",
    "        sent = df.iloc[idx]['Text']\n",
    "        #print(sent)\n",
    "        for word1 in mlm_words:\n",
    "            sent1 = sent.replace(word, word1)\n",
    "            #print(sent1)\n"
   ]
  }
 ],
 "metadata": {
  "kernelspec": {
   "display_name": "Python 3 (ipykernel)",
   "language": "python",
   "name": "python3"
  },
  "language_info": {
   "codemirror_mode": {
    "name": "ipython",
    "version": 3
   },
   "file_extension": ".py",
   "mimetype": "text/x-python",
   "name": "python",
   "nbconvert_exporter": "python",
   "pygments_lexer": "ipython3",
   "version": "3.11.5"
  }
 },
 "nbformat": 4,
 "nbformat_minor": 5
}
