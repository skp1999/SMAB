{
 "cells": [
  {
   "cell_type": "code",
   "execution_count": null,
   "id": "ae8bc9e8-d354-4518-a1d6-4d53629bd667",
   "metadata": {},
   "outputs": [],
   "source": [
    "'''\n",
    "import sqlite3\n",
    "\n",
    "# Function to connect to a .db file and perform a simple query\n",
    "def load_db_file(db_path):\n",
    "    try:\n",
    "        # Connect to the database\n",
    "        conn = sqlite3.connect(db_path)\n",
    "        cursor = conn.cursor()\n",
    "        \n",
    "        # Example: Retrieve the names of all tables in the database\n",
    "        cursor.execute(\"SELECT name FROM sqlite_master WHERE type='table';\")\n",
    "        tables = cursor.fetchall()\n",
    "        print(\"Tables in the database:\", tables)\n",
    "        \n",
    "        # Example: Query data from a specific table (replace 'your_table_name' with an actual table name)\n",
    "        cursor.execute(\"SELECT * FROM my_table;\")\n",
    "        rows = cursor.fetchall()\n",
    "        print(\"Data from the table:\", rows)\n",
    "        \n",
    "    except sqlite3.Error as e:\n",
    "        print(f\"Error loading .db file: {e}\")\n",
    "    finally:\n",
    "        # Close the connection\n",
    "        if conn:\n",
    "            conn.close()\n",
    "\n",
    "# Replace 'your_database.db' with the path to your .db file\n",
    "load_db_file('attack.db')\n",
    "'''"
   ]
  },
  {
   "cell_type": "code",
   "execution_count": null,
   "id": "b20bd2e7-8ffa-4c8a-96f0-1f01d4a91b69",
   "metadata": {},
   "outputs": [],
   "source": []
  },
  {
   "cell_type": "code",
   "execution_count": 2,
   "id": "01e6edf3-b6c4-4bde-9c6c-8ca3ab596152",
   "metadata": {},
   "outputs": [
    {
     "name": "stdout",
     "output_type": "stream",
     "text": [
      "Tables in the database: ['my_table']\n",
      "Table 'my_table' exported successfully to 'check_10_output.csv'\n"
     ]
    }
   ],
   "source": [
    "import sqlite3\n",
    "import csv\n",
    "\n",
    "# Function to connect to a .db file and export the contents of a specific table to a CSV file\n",
    "def export_table_to_csv(db_path, table_name, csv_filename):\n",
    "    try:\n",
    "        # Connect to the database\n",
    "        conn = sqlite3.connect(db_path)\n",
    "        cursor = conn.cursor()\n",
    "        \n",
    "        # Retrieve and print the names of all tables in the database\n",
    "        cursor.execute(\"SELECT name FROM sqlite_master WHERE type='table';\")\n",
    "        tables = cursor.fetchall()\n",
    "        print(\"Tables in the database:\", [table[0] for table in tables])\n",
    "        \n",
    "        # Fetch the content of the specified table\n",
    "        cursor.execute(f\"SELECT * FROM {table_name};\")\n",
    "        rows = cursor.fetchall()\n",
    "        \n",
    "        # Fetch column names\n",
    "        column_names = [description[0] for description in cursor.description]\n",
    "        \n",
    "        # Write the content to a CSV file\n",
    "        with open(csv_filename, mode='w', newline='') as csv_file:\n",
    "            writer = csv.writer(csv_file)\n",
    "            writer.writerow(column_names)  # Write header row\n",
    "            writer.writerows(rows)         # Write data rows\n",
    "        \n",
    "        print(f\"Table '{table_name}' exported successfully to '{csv_filename}'\")\n",
    "        \n",
    "    except sqlite3.Error as e:\n",
    "        print(f\"Error loading .db file: {e}\")\n",
    "    finally:\n",
    "        # Close the connection\n",
    "        if conn:\n",
    "            conn.close()\n",
    "\n",
    "P = \"/home/sachin/prompting_attack/PromptAttack_LLM/\"\n",
    "# Replace the following with your actual file paths and table name\n",
    "export_table_to_csv('check_10.db', 'my_table', 'check_10_output.csv')\n"
   ]
  },
  {
   "cell_type": "code",
   "execution_count": null,
   "id": "1309342e-f971-44c8-8337-686cb646b295",
   "metadata": {},
   "outputs": [],
   "source": []
  },
  {
   "cell_type": "code",
   "execution_count": null,
   "id": "bbc47219-517a-4f5f-bbb5-c06d7cb6a72a",
   "metadata": {},
   "outputs": [],
   "source": [
    "import pickle\n",
    "\n",
    "# Define the path to your pickle file\n",
    "file_path = 'info/'\n",
    "\n",
    "# Open the pickle file in read-binary mode and load the contents\n",
    "with open(file_path, 'rb') as file:\n",
    "    data = pickle.load(file)\n",
    "\n",
    "# Print or work with the loaded data\n",
    "print(data)\n"
   ]
  },
  {
   "cell_type": "code",
   "execution_count": null,
   "id": "d18f1659-4efa-44f4-ae54-ee8f02aafe4f",
   "metadata": {},
   "outputs": [],
   "source": []
  },
  {
   "cell_type": "code",
   "execution_count": null,
   "id": "5d5201c6-e596-409d-b97e-6cf87e479562",
   "metadata": {},
   "outputs": [],
   "source": []
  },
  {
   "cell_type": "code",
   "execution_count": null,
   "id": "25fb0294-cfe8-469e-998b-ad167752c1b8",
   "metadata": {},
   "outputs": [],
   "source": [
    "S = \"The words \\\"W1\\\" and \\\"W2\\\" are highly sensitive in the given sentence, and perturbing either \\\"W1\\\", \\\"W2\\\", or both can change the label of the sentence while preserving the semantic meaning of the new sentence as that of the original.\"\n",
    "print(S)\n",
    "T = S.replace(\"W1\", \"sachin\").replace(\"W2\", \"vashisth\")\n",
    "print(T)\n",
    "print(S)"
   ]
  },
  {
   "cell_type": "code",
   "execution_count": null,
   "id": "2d4063fa-54a9-48a7-b13b-1a9a37ee4822",
   "metadata": {},
   "outputs": [],
   "source": []
  },
  {
   "cell_type": "code",
   "execution_count": null,
   "id": "1bf63e82-d5d4-4613-8f79-0a220a97d77a",
   "metadata": {},
   "outputs": [],
   "source": []
  },
  {
   "cell_type": "code",
   "execution_count": null,
   "id": "115c7846-4218-4d4e-b0e8-a53486afa66b",
   "metadata": {},
   "outputs": [],
   "source": []
  },
  {
   "cell_type": "code",
   "execution_count": null,
   "id": "f60e9433-cf2b-4228-bb3a-b5929119473d",
   "metadata": {},
   "outputs": [],
   "source": []
  },
  {
   "cell_type": "code",
   "execution_count": null,
   "id": "ecda209e-0a86-4c69-bf72-8ad16e1fa8bd",
   "metadata": {},
   "outputs": [],
   "source": [
    "print(\"rohit\" not in S)"
   ]
  },
  {
   "cell_type": "code",
   "execution_count": null,
   "id": "3932f663-241a-4594-a0c1-38c108af22ed",
   "metadata": {},
   "outputs": [],
   "source": [
    "S = \"my name is sachin. sachin.\"\n",
    "\n",
    "if \"sachin\" in S:\n",
    "    print(\"yes\")\n",
    "print(S.replace(\"sachin\", \"prashant\"))"
   ]
  },
  {
   "cell_type": "code",
   "execution_count": null,
   "id": "a00f8314-3f8b-4488-8c97-644db72bc866",
   "metadata": {},
   "outputs": [],
   "source": [
    "if \"rohit\" in S:\n",
    "    print(\"yes\")"
   ]
  },
  {
   "cell_type": "code",
   "execution_count": null,
   "id": "b9b87eea-efa7-4177-801f-551c393e160a",
   "metadata": {},
   "outputs": [],
   "source": []
  },
  {
   "cell_type": "code",
   "execution_count": null,
   "id": "9c770ac0-0fcd-4bb4-91f1-5b6fb2602316",
   "metadata": {},
   "outputs": [],
   "source": []
  },
  {
   "cell_type": "code",
   "execution_count": null,
   "id": "951d02ae-8d11-45db-9b34-b964905ea985",
   "metadata": {},
   "outputs": [],
   "source": [
    "import pickle\n",
    "\n",
    "# Open the pickle file in binary read mode\n",
    "with open('info/sst2_info.pkl', 'rb') as file:\n",
    "    # Load the data from the file\n",
    "    data = pickle.load(file)\n",
    "\n",
    "# Now you can use the data\n",
    "print(type(data))"
   ]
  },
  {
   "cell_type": "code",
   "execution_count": null,
   "id": "230482cf-beef-4145-8f1d-7774326deb81",
   "metadata": {},
   "outputs": [],
   "source": [
    "for k,v in data.items():\n",
    "    print(k, v, len(v))\n",
    "    print(\"\\n\\n********************\\n\\n\")"
   ]
  },
  {
   "cell_type": "code",
   "execution_count": null,
   "id": "da592a66-8169-4ea7-8bd8-fadad6bc3553",
   "metadata": {},
   "outputs": [],
   "source": []
  },
  {
   "cell_type": "code",
   "execution_count": null,
   "id": "a8593590-b633-43c2-b307-2b56a297e4b8",
   "metadata": {},
   "outputs": [],
   "source": []
  },
  {
   "cell_type": "code",
   "execution_count": null,
   "id": "7fd20a94-422f-40bb-805e-e01d77f38311",
   "metadata": {},
   "outputs": [],
   "source": []
  },
  {
   "cell_type": "code",
   "execution_count": null,
   "id": "9fcc3190-28cd-47e5-a216-a0589eed3703",
   "metadata": {},
   "outputs": [],
   "source": []
  },
  {
   "cell_type": "code",
   "execution_count": null,
   "id": "a36b0fdb-f86c-4d0d-9439-1642b6580aae",
   "metadata": {},
   "outputs": [],
   "source": []
  },
  {
   "cell_type": "code",
   "execution_count": null,
   "id": "b73c39af-f5f4-49bd-9a42-583898f09063",
   "metadata": {},
   "outputs": [],
   "source": []
  },
  {
   "cell_type": "code",
   "execution_count": null,
   "id": "5936a280-5beb-44b3-aed7-04173488f876",
   "metadata": {},
   "outputs": [],
   "source": []
  }
 ],
 "metadata": {
  "kernelspec": {
   "display_name": "Python 3 (ipykernel)",
   "language": "python",
   "name": "python3"
  },
  "language_info": {
   "codemirror_mode": {
    "name": "ipython",
    "version": 3
   },
   "file_extension": ".py",
   "mimetype": "text/x-python",
   "name": "python",
   "nbconvert_exporter": "python",
   "pygments_lexer": "ipython3",
   "version": "3.10.0"
  }
 },
 "nbformat": 4,
 "nbformat_minor": 5
}
